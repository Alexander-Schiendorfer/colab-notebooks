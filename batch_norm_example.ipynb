{
  "nbformat": 4,
  "nbformat_minor": 0,
  "metadata": {
    "colab": {
      "name": "batch_norm_example.ipynb",
      "provenance": [],
      "collapsed_sections": [],
      "authorship_tag": "ABX9TyNsCds3a3l8/qjzNwsSufeT",
      "include_colab_link": true
    },
    "kernelspec": {
      "name": "python3",
      "display_name": "Python 3"
    },
    "language_info": {
      "name": "python"
    }
  },
  "cells": [
    {
      "cell_type": "markdown",
      "metadata": {
        "id": "view-in-github",
        "colab_type": "text"
      },
      "source": [
        "<a href=\"https://colab.research.google.com/github/Alexander-Schiendorfer/colab-notebooks/blob/master/batch_norm_example.ipynb\" target=\"_parent\"><img src=\"https://colab.research.google.com/assets/colab-badge.svg\" alt=\"Open In Colab\"/></a>"
      ]
    },
    {
      "cell_type": "code",
      "metadata": {
        "colab": {
          "base_uri": "https://localhost:8080/"
        },
        "id": "UhoBHFpoQC4L",
        "outputId": "545230c3-5723-4e9c-b0c8-492797fe77c9"
      },
      "source": [
        "import numpy as np\n",
        "\n",
        "X = np.array( [[2., -1.], [-2., 2.], [1., 0.5]])\n",
        "print(X)\n",
        "\n",
        "W = np.array([[4., -2.], [-1., 2.]])\n",
        "\n",
        "h = np.dot(X,W)\n",
        "print(\"------\")\n",
        "print(h)"
      ],
      "execution_count": 5,
      "outputs": [
        {
          "output_type": "stream",
          "text": [
            "[[ 2.  -1. ]\n",
            " [-2.   2. ]\n",
            " [ 1.   0.5]]\n",
            "------\n",
            "[[  9.   -6. ]\n",
            " [-10.    8. ]\n",
            " [  3.5  -1. ]]\n"
          ],
          "name": "stdout"
        }
      ]
    },
    {
      "cell_type": "code",
      "metadata": {
        "colab": {
          "base_uri": "https://localhost:8080/"
        },
        "id": "7KDOA99jR_sT",
        "outputId": "ae4b8562-b9d8-4eb4-f9da-f0c426b5642b"
      },
      "source": [
        "# get the means and standard deviations \n",
        "print(h.mean(axis=0))\n",
        "print(h.std(axis=0))"
      ],
      "execution_count": 10,
      "outputs": [
        {
          "output_type": "stream",
          "text": [
            "[0.83333333 0.33333333]\n",
            "[7.98262001 5.79271573]\n"
          ],
          "name": "stdout"
        }
      ]
    },
    {
      "cell_type": "code",
      "metadata": {
        "colab": {
          "base_uri": "https://localhost:8080/"
        },
        "id": "6BhskV1HSgjA",
        "outputId": "faf0d141-ecfd-49aa-f177-37f70b6546ac"
      },
      "source": [
        "(h - h.mean(axis=0))/(h.std(axis=0))"
      ],
      "execution_count": 12,
      "outputs": [
        {
          "output_type": "execute_result",
          "data": {
            "text/plain": [
              "array([[ 1.02305592, -1.09332714],\n",
              "       [-1.357115  ,  1.32350128],\n",
              "       [ 0.33405908, -0.23017414]])"
            ]
          },
          "metadata": {
            "tags": []
          },
          "execution_count": 12
        }
      ]
    }
  ]
}
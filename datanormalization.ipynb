{
  "nbformat": 4,
  "nbformat_minor": 0,
  "metadata": {
    "colab": {
      "name": "normalization.ipynb",
      "provenance": [],
      "collapsed_sections": [],
      "authorship_tag": "ABX9TyOCG4NFJU8A71PVyOGy9oj0",
      "include_colab_link": true
    },
    "kernelspec": {
      "name": "python3",
      "display_name": "Python 3"
    },
    "language_info": {
      "name": "python"
    }
  },
  "cells": [
    {
      "cell_type": "markdown",
      "metadata": {
        "id": "view-in-github",
        "colab_type": "text"
      },
      "source": [
        "<a href=\"https://colab.research.google.com/github/Alexander-Schiendorfer/colab-notebooks/blob/master/datanormalization.ipynb\" target=\"_parent\"><img src=\"https://colab.research.google.com/assets/colab-badge.svg\" alt=\"Open In Colab\"/></a>"
      ]
    },
    {
      "cell_type": "markdown",
      "metadata": {
        "id": "onVEvD9SJCgI"
      },
      "source": [
        "# Inspect the effect of normalization\n",
        "Start with some randomly sampled data."
      ]
    },
    {
      "cell_type": "code",
      "metadata": {
        "id": "AjrjYi3yHO9h"
      },
      "source": [
        "import numpy as np\n",
        "%matplotlib inline\n",
        "import matplotlib.pyplot as plt\n",
        "\n",
        "mean = [3, -2]\n",
        "cov = [[2, .5], [8, 1]] \n",
        "x, y = np.random.multivariate_normal(mean, cov, 100).T\n",
        "plt.plot(x, y, 'x')\n",
        "plt.axis('equal')\n",
        "plt.grid()\n",
        "plt.show()\n"
      ],
      "execution_count": null,
      "outputs": []
    },
    {
      "cell_type": "markdown",
      "metadata": {
        "id": "YLFv1wi_JJTM"
      },
      "source": [
        "## Now normalize\n",
        "Subtract the mean of each axis and divide by the standard deviation.\n",
        "\n",
        "$ x_{\\mathrm{norm}} = \\frac{x - \\mathit{mean}(x)}{\\mathit{std}(x)}$"
      ]
    },
    {
      "cell_type": "code",
      "metadata": {
        "id": "EY8a95DeHYB2"
      },
      "source": [
        "# use x.mean(), y.mean(), x.std(), y.std() to find the relevant quantities\n",
        "# x_norm = ... \n",
        "# y_norm = ... \n",
        "\n",
        "plt.plot(x, y, 'bx', label=\"Unnormalized data\")\n",
        "plt.plot(x_norm, y_norm, 'rx', label =\"Normalized data\")\n",
        "plt.axis('equal')\n",
        "plt.legend()\n",
        "plt.grid()\n",
        "plt.show()\n"
      ],
      "execution_count": null,
      "outputs": []
    }
  ]
}